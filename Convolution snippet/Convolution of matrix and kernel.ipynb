{
 "cells": [
  {
   "cell_type": "markdown",
   "id": "9b6eb5ac",
   "metadata": {},
   "source": [
    "### Snippet for Convolution"
   ]
  },
  {
   "cell_type": "code",
   "execution_count": 1,
   "id": "dacf8250",
   "metadata": {},
   "outputs": [],
   "source": [
    "import numpy as np"
   ]
  },
  {
   "cell_type": "markdown",
   "id": "cf61f4d1",
   "metadata": {},
   "source": [
    "##### Snippet below will take a matrix of size NxM and kernel KxL and return the convoluted matrix"
   ]
  },
  {
   "cell_type": "code",
   "execution_count": 2,
   "id": "285b98bc",
   "metadata": {},
   "outputs": [],
   "source": [
    "def convolve(matrix , kernel, padding = 0, stride = 1):\n",
    "    kernel = np.flipud(np.fliplr(kernel))  #flipping the kernel horizontally and vertically\n",
    "    xOut = int(((matrix.shape[0] - kernel.shape[0]+2*padding)/stride)+1)\n",
    "    yOut = int(((matrix.shape[1] - kernel.shape[1]+2*padding)/stride)+1)\n",
    "    conv_mat = np.zeros(xOut,yOut)   #initializing output matrix with zeros\n",
    "    \n",
    "    if padding !=0:\n",
    "        padded_mat = np.zeros(matrix.shape[0]+padding*2,matrix.shape[1]+2*padding)  \n",
    "        padded_mat[1:-1,1:-1] = matrix     #creating 0 padding evenly on both sides of input matrix\n",
    "    else: padded_mat = matrix\n",
    "    \n",
    "    for y in range(matrix.shape[1]):\n",
    "        if y > matrix.shape[1] - kernel.shape[1]:\n",
    "            break   #kernel is at the bottom\n",
    "        if y%stride == 0:\n",
    "            for x in range(matrix.shape[0]):\n",
    "                if x > matrix.shape[0] - kernel.shape[0]:\n",
    "                    break\n",
    "                if x%stride == 0:\n",
    "                    conv_mat[x,y] = (kernel * padded_mat[x:x+kernel.shape[0],y:y+kernel.shape[1]]).sum()   #performing the main convolution operation\n",
    "                else: break\n",
    "    return conv_mat"
   ]
  }
 ],
 "metadata": {
  "kernelspec": {
   "display_name": "Python 3 (ipykernel)",
   "language": "python",
   "name": "python3"
  },
  "language_info": {
   "codemirror_mode": {
    "name": "ipython",
    "version": 3
   },
   "file_extension": ".py",
   "mimetype": "text/x-python",
   "name": "python",
   "nbconvert_exporter": "python",
   "pygments_lexer": "ipython3",
   "version": "3.9.13"
  }
 },
 "nbformat": 4,
 "nbformat_minor": 5
}
