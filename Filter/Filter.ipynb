{
 "cells": [
  {
   "cell_type": "code",
   "execution_count": 1,
   "id": "acf5e499",
   "metadata": {},
   "outputs": [],
   "source": [
    "import cv2\n",
    "import numpy as np"
   ]
  },
  {
   "cell_type": "code",
   "execution_count": 2,
   "id": "9720b38d-e952-4471-8ddc-201dedd4ea00",
   "metadata": {},
   "outputs": [],
   "source": [
    "mat1 = np.array([[0,0,1,0,0],\n",
    "                    [0,0,1,0,0],\n",
    "                    [1,1,1,1,1],\n",
    "                    [0,0,1,0,0],\n",
    "                    [0,0,1,0,0]])\n",
    "\n",
    "mat2 = np.array([[0,0,0,0,0],\n",
    "                    [0,0,0,0,0],\n",
    "                    [1,1,1,1,1],\n",
    "                    [0,0,0,0,0],\n",
    "                    [0,0,0,0,0]])\n",
    "\n",
    "mat3 = np.array([[1,0,0,0,1],\n",
    "                    [0,1,0,1,0],\n",
    "                    [0,0,1,0,0],\n",
    "                    [0,1,0,1,0],\n",
    "                    [1,0,0,0,1]])\n",
    "\n",
    "mat4 = np.array([[0,0,1,0,0],\n",
    "                    [0,0,0,0,0],\n",
    "                    [1,1,1,1,1],\n",
    "                    [0,0,0,0,0],\n",
    "                    [0,0,1,0,0]])"
   ]
  },
  {
   "cell_type": "code",
   "execution_count": 3,
   "id": "5366dba8-3ed2-49af-9a67-ea0bb846baf7",
   "metadata": {},
   "outputs": [],
   "source": [
    "def invert_mat(matrix):\n",
    "    for y in range(matrix.shape[1]):\n",
    "        for x in range(matrix.shape[0]):\n",
    "            if matrix[x][y] == 1:\n",
    "                matrix[x][y]=0\n",
    "            else:\n",
    "                 matrix[x][y]=1\n",
    "    return matrix"
   ]
  },
  {
   "cell_type": "code",
   "execution_count": 4,
   "id": "7464fb8e-c206-43c5-85cf-7096e59ed4cf",
   "metadata": {},
   "outputs": [],
   "source": [
    "add_mat = invert_mat(mat1)\n",
    "sub_mat = invert_mat(mat2)\n",
    "mul_mat = invert_mat(mat3)\n",
    "div_mat = invert_mat(mat4)"
   ]
  },
  {
   "cell_type": "code",
   "execution_count": 15,
   "id": "1650ef8f-42a2-4f80-be4c-ebf5fcbcb8d9",
   "metadata": {},
   "outputs": [],
   "source": [
    "kernel1 = np.ones((3,3),dtype='uint8')\n",
    "kernel= np.array([[1,0,0,0,1],\n",
    "                   [0,1,1,0,0],\n",
    "                   [1,1,1,1,1],\n",
    "                   [0,0,1,1,0],\n",
    "                   [1,0,1,0,1]])\n",
    "\n",
    "p = np.array([[1,3,1],\n",
    "              [2,6,2],\n",
    "              [1,3,1]])\n",
    "\n",
    "d = np.array([[4,1,4],\n",
    "              [1,6,1],\n",
    "              [4,1,4]])"
   ]
  },
  {
   "cell_type": "code",
   "execution_count": 6,
   "id": "1f028d64-924f-483e-ad05-09ae43aa2139",
   "metadata": {},
   "outputs": [],
   "source": [
    "def convolve(matrix , kernel, padding = 0, stride = 1):\n",
    "    kernel = np.flipud(np.fliplr(kernel))\n",
    "    xOut = int(((matrix.shape[0] - kernel.shape[0]+2*padding)/stride)+1)\n",
    "    yOut = int(((matrix.shape[1] - kernel.shape[1]+2*padding)/stride)+1)\n",
    "    conv_mat = np.zeros((xOut,yOut))\n",
    "    \n",
    "    if padding !=0:\n",
    "        padded_mat = np.zeros(matrix.shape[0]+padding*2,matrix.shape[1]+2*padding)  \n",
    "        padded_mat[1:-1,1:-1] = matrix \n",
    "    else: padded_mat = matrix\n",
    "    \n",
    "    for y in range(matrix.shape[1]):\n",
    "        if y > matrix.shape[1] - kernel.shape[1]:\n",
    "            break \n",
    "        if y%stride == 0:\n",
    "            for x in range(matrix.shape[0]):\n",
    "                if x > matrix.shape[0] - kernel.shape[0]:\n",
    "                    break\n",
    "                if x%stride == 0:\n",
    "                    conv_mat[x,y] = (kernel * padded_mat[x:x+kernel.shape[0],y:y+kernel.shape[1]]).sum()\n",
    "    return conv_mat"
   ]
  },
  {
   "cell_type": "code",
   "execution_count": 7,
   "id": "066384c5-72ff-4351-b02a-474ea32f7149",
   "metadata": {},
   "outputs": [
    {
     "name": "stdout",
     "output_type": "stream",
     "text": [
      "[[1.         1.08333333 1.        ]\n",
      " [1.         0.83333333 1.        ]\n",
      " [1.         1.08333333 1.        ]]\n"
     ]
    }
   ],
   "source": [
    "result = convolve(mul_mat,p)\n",
    "result /= 12\n",
    "cv2.imshow(\"MUL\", result)\n",
    "cv2.waitKey(0)\n",
    "print(result)"
   ]
  },
  {
   "cell_type": "code",
   "execution_count": 29,
   "id": "e213cfa0-2ae0-4ed0-a7f0-1f09d6772d13",
   "metadata": {},
   "outputs": [
    {
     "name": "stdout",
     "output_type": "stream",
     "text": [
      "[[0.5        0.85714286 0.5       ]\n",
      " [0.85714286 1.         0.85714286]\n",
      " [0.5        0.85714286 0.5       ]]\n"
     ]
    }
   ],
   "source": [
    "add = convolve(add_mat,p)\n",
    "add /= 14\n",
    "cv2.imshow(\"ADD\", add)\n",
    "cv2.waitKey(0)\n",
    "print(add)"
   ]
  },
  {
   "cell_type": "code",
   "execution_count": 30,
   "id": "d6730b17-b9ac-418a-97b8-c551df9afdcf",
   "metadata": {},
   "outputs": [
    {
     "name": "stdout",
     "output_type": "stream",
     "text": [
      "[[1.4 1.4 1.4]\n",
      " [0.8 0.8 0.8]\n",
      " [1.4 1.4 1.4]]\n"
     ]
    }
   ],
   "source": [
    "sub = convolve(sub_mat,p)\n",
    "sub /= 10\n",
    "cv2.imshow(\"SUB\", sub)\n",
    "cv2.waitKey(0)\n",
    "print(sub)"
   ]
  },
  {
   "cell_type": "code",
   "execution_count": 37,
   "id": "441b1fd2-2b87-44d3-ab61-2d3702a7e4c1",
   "metadata": {},
   "outputs": [
    {
     "name": "stdout",
     "output_type": "stream",
     "text": [
      "[[13. 12. 13.]\n",
      " [ 8.  8.  8.]\n",
      " [13. 12. 13.]]\n"
     ]
    }
   ],
   "source": [
    "div = convolve(div_mat,p)\n",
    "#div /= 13\n",
    "cv2.imshow(\"DIV\", div)\n",
    "cv2.waitKey(0)\n",
    "print(div)"
   ]
  },
  {
   "cell_type": "code",
   "execution_count": 20,
   "id": "404bc568-13af-43b0-bf23-38e2438153cb",
   "metadata": {},
   "outputs": [
    {
     "name": "stdout",
     "output_type": "stream",
     "text": [
      "[[0.70833333 0.70833333 0.70833333 0.70833333 0.70833333 0.70833333\n",
      "  0.70833333 0.5        0.41666667 0.5        0.875      0.75\n",
      "  0.70833333 0.66666667 0.375      0.66666667 0.54166667 0.875\n",
      "  0.75       1.         0.5        0.95833333 0.5        0.83333333\n",
      "  0.70833333 0.54166667 0.66666667 0.54166667]\n",
      " [0.75       0.75       0.75       0.79166667 1.         0.79166667\n",
      "  0.75       0.41666667 0.66666667 0.41666667 0.79166667 1.\n",
      "  0.79166667 0.75       0.75       0.75       0.75       0.79166667\n",
      "  1.04166667 0.75       0.95833333 0.16666667 0.95833333 0.70833333\n",
      "  0.79166667 0.75       0.75       0.75      ]\n",
      " [0.70833333 0.70833333 0.70833333 0.875      0.75       0.70833333\n",
      "  0.66666667 0.33333333 0.41666667 0.5        0.875      0.75\n",
      "  0.875      0.54166667 0.66666667 0.54166667 0.70833333 0.875\n",
      "  0.75       1.         0.5        0.95833333 0.5        0.83333333\n",
      "  0.70833333 0.54166667 0.66666667 0.54166667]]\n"
     ]
    }
   ],
   "source": [
    "r2 = convolve(matrix,d)\n",
    "r2 = r2/24\n",
    "#r2 = np.array(r2,dtype= 'uint8')\n",
    "print(r2)"
   ]
  },
  {
   "cell_type": "code",
   "execution_count": 21,
   "id": "7d9e785e-3b69-4636-a343-4bedfb16c88b",
   "metadata": {},
   "outputs": [],
   "source": [
    "def threshhold(matrix, val):\n",
    "    for y in range(matrix.shape[1]):\n",
    "        for x in range(matrix.shape[0]):\n",
    "            if matrix[x][y] < val:\n",
    "                matrix[x][y] = 0\n",
    "            else:\n",
    "                matrix[x][y] = 1\n",
    "    return r2"
   ]
  },
  {
   "cell_type": "code",
   "execution_count": 22,
   "id": "b06b504b-6b5b-49ff-85bb-77146b9716c0",
   "metadata": {},
   "outputs": [
    {
     "name": "stdout",
     "output_type": "stream",
     "text": [
      "[[1. 1. 1. 1. 1. 1. 1. 0. 0. 0. 1. 1. 1. 1. 0. 1. 0. 1. 1. 1. 0. 1. 0. 1.\n",
      "  1. 0. 1. 0.]\n",
      " [1. 1. 1. 1. 1. 1. 1. 0. 1. 0. 1. 1. 1. 1. 1. 1. 1. 1. 1. 1. 1. 0. 1. 1.\n",
      "  1. 1. 1. 1.]\n",
      " [1. 1. 1. 1. 1. 1. 1. 0. 0. 0. 1. 1. 1. 0. 1. 0. 1. 1. 1. 1. 0. 1. 0. 1.\n",
      "  1. 0. 1. 0.]]\n"
     ]
    }
   ],
   "source": [
    "r2 = threshhold(r2, 0.6)\n",
    "print(r2)\n"
   ]
  },
  {
   "cell_type": "code",
   "execution_count": 23,
   "id": "80b06513-67a2-43ca-a751-b00afbd49549",
   "metadata": {},
   "outputs": [
    {
     "data": {
      "text/plain": [
       "113"
      ]
     },
     "execution_count": 23,
     "metadata": {},
     "output_type": "execute_result"
    },
    {
     "ename": "",
     "evalue": "",
     "output_type": "error",
     "traceback": [
      "The Kernel crashed while executing code in the the current cell or a previous cell. Please review the code in the cell(s) to identify a possible cause of the failure. Click <a href='https://aka.ms/vscodeJupyterKernelCrash'>here</a> for more info. View Jupyter <a href='command:jupyter.viewOutput'>log</a> for further details."
     ]
    }
   ],
   "source": [
    "cv2.imshow(\"ConvImg\", r2)\n",
    "cv2.waitKey(0)"
   ]
  },
  {
   "cell_type": "code",
   "execution_count": 49,
   "id": "2b77f442-9c71-4639-98e9-85dc8808939e",
   "metadata": {},
   "outputs": [
    {
     "ename": "error",
     "evalue": "OpenCV(4.6.0) D:\\bld\\libopencv_1657598186226\\work\\modules\\imgproc\\src\\contours.cpp:197: error: (-210:Unsupported format or combination of formats) [Start]FindContours supports only CV_8UC1 images when mode != CV_RETR_FLOODFILL otherwise supports CV_32SC1 images only in function 'cvStartFindContours_Impl'\n",
     "output_type": "error",
     "traceback": [
      "\u001b[1;31m---------------------------------------------------------------------------\u001b[0m",
      "\u001b[1;31merror\u001b[0m                                     Traceback (most recent call last)",
      "Input \u001b[1;32mIn [49]\u001b[0m, in \u001b[0;36m<cell line: 1>\u001b[1;34m()\u001b[0m\n\u001b[1;32m----> 1\u001b[0m contours, hierarchies \u001b[38;5;241m=\u001b[39m \u001b[43mcv2\u001b[49m\u001b[38;5;241;43m.\u001b[39;49m\u001b[43mfindContours\u001b[49m\u001b[43m(\u001b[49m\u001b[43mr2\u001b[49m\u001b[43m,\u001b[49m\u001b[43m \u001b[49m\u001b[43mcv2\u001b[49m\u001b[38;5;241;43m.\u001b[39;49m\u001b[43mRETR_EXTERNAL\u001b[49m\u001b[43m,\u001b[49m\u001b[43m \u001b[49m\u001b[43mcv2\u001b[49m\u001b[38;5;241;43m.\u001b[39;49m\u001b[43mCHAIN_APPROX_SIMPLE\u001b[49m\u001b[43m)\u001b[49m\n\u001b[0;32m      2\u001b[0m \u001b[38;5;28mprint\u001b[39m(\u001b[38;5;124mf\u001b[39m\u001b[38;5;124m'\u001b[39m\u001b[38;5;132;01m{\u001b[39;00m\u001b[38;5;28mlen\u001b[39m(contours)\u001b[38;5;132;01m}\u001b[39;00m\u001b[38;5;124m contour(s) found!\u001b[39m\u001b[38;5;124m'\u001b[39m)\n\u001b[0;32m      4\u001b[0m cv2\u001b[38;5;241m.\u001b[39mdrawContours(r2, contours, \u001b[38;5;241m-\u001b[39m\u001b[38;5;241m1\u001b[39m, \u001b[38;5;241m255\u001b[39m, \u001b[38;5;241m1\u001b[39m)\n",
      "\u001b[1;31merror\u001b[0m: OpenCV(4.6.0) D:\\bld\\libopencv_1657598186226\\work\\modules\\imgproc\\src\\contours.cpp:197: error: (-210:Unsupported format or combination of formats) [Start]FindContours supports only CV_8UC1 images when mode != CV_RETR_FLOODFILL otherwise supports CV_32SC1 images only in function 'cvStartFindContours_Impl'\n"
     ]
    }
   ],
   "source": [
    "contours, hierarchies = cv2.findContours(r2, cv2.RETR_EXTERNAL, cv2.CHAIN_APPROX_SIMPLE)\n",
    "print(f'{len(contours)} contour(s) found!')\n",
    "\n",
    "cv2.drawContours(r2, contours, -1, 255, 1)\n",
    "cv2.imshow('Contours Drawn', r2)\n",
    "\n",
    "cv2.waitKey(0)"
   ]
  },
  {
   "cell_type": "code",
   "execution_count": 92,
   "id": "2947e6d6-da57-47bf-9e6b-8ab1c7400043",
   "metadata": {},
   "outputs": [
    {
     "name": "stdout",
     "output_type": "stream",
     "text": [
      "0\n"
     ]
    }
   ],
   "source": [
    "det = np.linalg.det(result)\n",
    "print(round(det))"
   ]
  },
  {
   "cell_type": "code",
   "execution_count": 9,
   "id": "c1279518-49d4-4799-befc-bc3749fd930f",
   "metadata": {},
   "outputs": [],
   "source": [
    "matrix = np.array([[0,0,0,0,0,1,0,0,0,1,0,0,0,0,1,0,1,0,0,0,1,0,0,0,1,0,0,1,0,0],\n",
    "                    [0,0,0,0,0,0,0,0,0,1,0,0,0,0,0,0,0,0,0,0,0,1,0,1,0,0,0,0,0,0],\n",
    "                    [1,1,1,1,1,0,1,1,1,1,1,1,0,1,1,1,1,1,1,0,0,0,1,0,0,1,1,1,1,1],\n",
    "                    [0,0,0,0,0,0,0,0,0,1,0,0,0,0,0,0,0,0,0,0,0,1,0,1,0,0,0,0,0,0],\n",
    "                    [0,0,0,0,0,0,0,1,0,1,0,0,0,0,0,1,0,0,0,0,1,0,0,0,1,0,0,1,0,0]])\n",
    "\n",
    "matrix = invert_mat(matrix)"
   ]
  },
  {
   "cell_type": "code",
   "execution_count": 10,
   "id": "afcea5bd-2a93-477c-85dd-05cdcf909250",
   "metadata": {},
   "outputs": [
    {
     "data": {
      "text/plain": [
       "97"
      ]
     },
     "execution_count": 10,
     "metadata": {},
     "output_type": "execute_result"
    }
   ],
   "source": [
    "width = 30\n",
    "height = 5\n",
    "img = np.ones((height,width))\n",
    "img[:] = matrix\n",
    "cv2.imshow(\"IMAGE\",img)\n",
    "cv2.waitKey()"
   ]
  },
  {
   "cell_type": "code",
   "execution_count": null,
   "id": "2e8c8e40-85c2-4cb6-bbaa-12d4a7781e97",
   "metadata": {},
   "outputs": [],
   "source": [
    "def mat_detect(img):\n",
    "    conv_mat = convolve(img,kernel2, stride = 5)\n",
    "    \n",
    "    "
   ]
  }
 ],
 "metadata": {
  "kernelspec": {
   "display_name": "Python 3.9.13 ('my_env')",
   "language": "python",
   "name": "python3"
  },
  "language_info": {
   "codemirror_mode": {
    "name": "ipython",
    "version": 3
   },
   "file_extension": ".py",
   "mimetype": "text/x-python",
   "name": "python",
   "nbconvert_exporter": "python",
   "pygments_lexer": "ipython3",
   "version": "3.9.13"
  },
  "vscode": {
   "interpreter": {
    "hash": "4bc572f4f92f604e867950283d664f722ba33d752b637470e3a8dd5c87895653"
   }
  }
 },
 "nbformat": 4,
 "nbformat_minor": 5
}
