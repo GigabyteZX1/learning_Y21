{
 "cells": [
  {
   "cell_type": "code",
   "execution_count": 1,
   "id": "369f6bdb",
   "metadata": {},
   "outputs": [],
   "source": [
    "import cv2\n",
    "import numpy as np"
   ]
  },
  {
   "cell_type": "code",
   "execution_count": 2,
   "id": "f961d1fc",
   "metadata": {},
   "outputs": [],
   "source": [
    "img = cv2.imread(\"./lena.png\")\n",
    "faceCascade = cv2.CascadeClassifier(\"./haarcascade_frontalface_default.xml\")\n",
    "imgGray = cv2.cvtColor(img, cv2.COLOR_BGR2GRAY)\n",
    "\n",
    "faces = faceCascade.detectMultiScale(imgGray,1.1,4)\n",
    "for (x,y,w,h) in faces:\n",
    "    cv2.rectangle(img,(x,y),(x+w,y+h),(0,255,0),2)\n",
    "\n",
    "while True:\n",
    "    cv2.imshow(\"Image\",img)\n",
    "    if cv2.waitKey(1)& 0xFF == ord('q'):\n",
    "        break"
   ]
  }
 ],
 "metadata": {
  "kernelspec": {
   "display_name": "Python 3.9.13 ('my_env')",
   "language": "python",
   "name": "python3"
  },
  "language_info": {
   "codemirror_mode": {
    "name": "ipython",
    "version": 3
   },
   "file_extension": ".py",
   "mimetype": "text/x-python",
   "name": "python",
   "nbconvert_exporter": "python",
   "pygments_lexer": "ipython3",
   "version": "3.9.13"
  },
  "vscode": {
   "interpreter": {
    "hash": "4bc572f4f92f604e867950283d664f722ba33d752b637470e3a8dd5c87895653"
   }
  }
 },
 "nbformat": 4,
 "nbformat_minor": 5
}
