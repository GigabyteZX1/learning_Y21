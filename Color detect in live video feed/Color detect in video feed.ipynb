{
 "cells": [
  {
   "cell_type": "code",
   "execution_count": 2,
   "id": "f19fd140",
   "metadata": {},
   "outputs": [],
   "source": [
    "import cv2\n",
    "import numpy as np"
   ]
  },
  {
   "cell_type": "code",
   "execution_count": 15,
   "id": "e14cd835",
   "metadata": {},
   "outputs": [],
   "source": [
    "cap = cv2.VideoCapture(0)\n",
    "cap.set(3,1080)\n",
    "cap.set(4,720)\n",
    "cap.set(10,100)\n",
    "\n",
    "while True:\n",
    "    success, img = cap.read()  \n",
    "    hsv_img = cv2.cvtColor(img,cv2.COLOR_BGR2HSV)\n",
    "    height,width, _ = img.shape\n",
    "\n",
    "    cx =int(width/2)\n",
    "    cy = int(height/2)\n",
    "    cv2.circle(img,(cx,cy),10,(0,255,0),2)\n",
    "\n",
    "    pixel_center_bgr = img[cy,cx]\n",
    "    pixel_center = hsv_img[cy, cx]\n",
    "    hue_val = pixel_center[0]\n",
    "\n",
    "    color = \"Undefined\"\n",
    "    if hue_val < 5:\n",
    "        color = \"RED\"\n",
    "    elif hue_val < 22:\n",
    "        color = \"ORANGE\"\n",
    "    elif hue_val < 33:\n",
    "        color = \"YELLOW\"\n",
    "    elif hue_val < 78:\n",
    "        color = \"GREEN\"\n",
    "    elif hue_val < 131:\n",
    "        color = \"BLUE\"\n",
    "    elif hue_val < 170:\n",
    "        color = \"VIOLET\"\n",
    "    # elif hue_val < 180:\n",
    "    #     color = \"BLACK\"\n",
    "    else:\n",
    "        color = \"RED\"\n",
    "    \n",
    "    b, g, r = int(pixel_center_bgr[0]), int(pixel_center_bgr[1]), int(pixel_center_bgr[2])\n",
    "    cv2.rectangle(img, (cx - 220, 10), (cx + 200, 120), (255, 255, 255), -1)\n",
    "    cv2.putText(img, color, (cx - 200, 100), 0, 3, (b, g, r), 5)\n",
    "\n",
    "    cv2.imshow(\"Video\", img)\n",
    "    if cv2.waitKey(1)& 0xFF == ord('q'):\n",
    "        break\n",
    "\n",
    "cap.release()\n",
    "cv2.destroyAllWindows()"
   ]
  }
 ],
 "metadata": {
  "kernelspec": {
   "display_name": "Python 3.9.13 ('my_env')",
   "language": "python",
   "name": "python3"
  },
  "language_info": {
   "codemirror_mode": {
    "name": "ipython",
    "version": 3
   },
   "file_extension": ".py",
   "mimetype": "text/x-python",
   "name": "python",
   "nbconvert_exporter": "python",
   "pygments_lexer": "ipython3",
   "version": "3.9.13"
  },
  "vscode": {
   "interpreter": {
    "hash": "4bc572f4f92f604e867950283d664f722ba33d752b637470e3a8dd5c87895653"
   }
  }
 },
 "nbformat": 4,
 "nbformat_minor": 5
}
